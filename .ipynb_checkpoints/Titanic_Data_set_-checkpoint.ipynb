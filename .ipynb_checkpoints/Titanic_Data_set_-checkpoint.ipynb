{
 "cells": [
  {
   "cell_type": "code",
   "execution_count": 1,
   "metadata": {},
   "outputs": [],
   "source": [
    "import numpy as np\n",
    "import pandas as pd"
   ]
  },
  {
   "cell_type": "code",
   "execution_count": 2,
   "metadata": {},
   "outputs": [],
   "source": [
    "titanic_data = pd.read_csv(r\"titanic_data_set/train.csv\")"
   ]
  },
  {
   "cell_type": "code",
   "execution_count": 3,
   "metadata": {},
   "outputs": [
    {
     "data": {
      "text/html": [
       "<div>\n",
       "<style scoped>\n",
       "    .dataframe tbody tr th:only-of-type {\n",
       "        vertical-align: middle;\n",
       "    }\n",
       "\n",
       "    .dataframe tbody tr th {\n",
       "        vertical-align: top;\n",
       "    }\n",
       "\n",
       "    .dataframe thead th {\n",
       "        text-align: right;\n",
       "    }\n",
       "</style>\n",
       "<table border=\"1\" class=\"dataframe\">\n",
       "  <thead>\n",
       "    <tr style=\"text-align: right;\">\n",
       "      <th></th>\n",
       "      <th>PassengerId</th>\n",
       "      <th>Survived</th>\n",
       "      <th>Pclass</th>\n",
       "      <th>Age</th>\n",
       "      <th>SibSp</th>\n",
       "      <th>Parch</th>\n",
       "      <th>Fare</th>\n",
       "    </tr>\n",
       "  </thead>\n",
       "  <tbody>\n",
       "    <tr>\n",
       "      <th>count</th>\n",
       "      <td>891.000000</td>\n",
       "      <td>891.000000</td>\n",
       "      <td>891.000000</td>\n",
       "      <td>714.000000</td>\n",
       "      <td>891.000000</td>\n",
       "      <td>891.000000</td>\n",
       "      <td>891.000000</td>\n",
       "    </tr>\n",
       "    <tr>\n",
       "      <th>mean</th>\n",
       "      <td>446.000000</td>\n",
       "      <td>0.383838</td>\n",
       "      <td>2.308642</td>\n",
       "      <td>29.699118</td>\n",
       "      <td>0.523008</td>\n",
       "      <td>0.381594</td>\n",
       "      <td>32.204208</td>\n",
       "    </tr>\n",
       "    <tr>\n",
       "      <th>std</th>\n",
       "      <td>257.353842</td>\n",
       "      <td>0.486592</td>\n",
       "      <td>0.836071</td>\n",
       "      <td>14.526497</td>\n",
       "      <td>1.102743</td>\n",
       "      <td>0.806057</td>\n",
       "      <td>49.693429</td>\n",
       "    </tr>\n",
       "    <tr>\n",
       "      <th>min</th>\n",
       "      <td>1.000000</td>\n",
       "      <td>0.000000</td>\n",
       "      <td>1.000000</td>\n",
       "      <td>0.420000</td>\n",
       "      <td>0.000000</td>\n",
       "      <td>0.000000</td>\n",
       "      <td>0.000000</td>\n",
       "    </tr>\n",
       "    <tr>\n",
       "      <th>25%</th>\n",
       "      <td>223.500000</td>\n",
       "      <td>0.000000</td>\n",
       "      <td>2.000000</td>\n",
       "      <td>20.125000</td>\n",
       "      <td>0.000000</td>\n",
       "      <td>0.000000</td>\n",
       "      <td>7.910400</td>\n",
       "    </tr>\n",
       "    <tr>\n",
       "      <th>50%</th>\n",
       "      <td>446.000000</td>\n",
       "      <td>0.000000</td>\n",
       "      <td>3.000000</td>\n",
       "      <td>28.000000</td>\n",
       "      <td>0.000000</td>\n",
       "      <td>0.000000</td>\n",
       "      <td>14.454200</td>\n",
       "    </tr>\n",
       "    <tr>\n",
       "      <th>75%</th>\n",
       "      <td>668.500000</td>\n",
       "      <td>1.000000</td>\n",
       "      <td>3.000000</td>\n",
       "      <td>38.000000</td>\n",
       "      <td>1.000000</td>\n",
       "      <td>0.000000</td>\n",
       "      <td>31.000000</td>\n",
       "    </tr>\n",
       "    <tr>\n",
       "      <th>max</th>\n",
       "      <td>891.000000</td>\n",
       "      <td>1.000000</td>\n",
       "      <td>3.000000</td>\n",
       "      <td>80.000000</td>\n",
       "      <td>8.000000</td>\n",
       "      <td>6.000000</td>\n",
       "      <td>512.329200</td>\n",
       "    </tr>\n",
       "  </tbody>\n",
       "</table>\n",
       "</div>"
      ],
      "text/plain": [
       "       PassengerId    Survived      Pclass         Age       SibSp  \\\n",
       "count   891.000000  891.000000  891.000000  714.000000  891.000000   \n",
       "mean    446.000000    0.383838    2.308642   29.699118    0.523008   \n",
       "std     257.353842    0.486592    0.836071   14.526497    1.102743   \n",
       "min       1.000000    0.000000    1.000000    0.420000    0.000000   \n",
       "25%     223.500000    0.000000    2.000000   20.125000    0.000000   \n",
       "50%     446.000000    0.000000    3.000000   28.000000    0.000000   \n",
       "75%     668.500000    1.000000    3.000000   38.000000    1.000000   \n",
       "max     891.000000    1.000000    3.000000   80.000000    8.000000   \n",
       "\n",
       "            Parch        Fare  \n",
       "count  891.000000  891.000000  \n",
       "mean     0.381594   32.204208  \n",
       "std      0.806057   49.693429  \n",
       "min      0.000000    0.000000  \n",
       "25%      0.000000    7.910400  \n",
       "50%      0.000000   14.454200  \n",
       "75%      0.000000   31.000000  \n",
       "max      6.000000  512.329200  "
      ]
     },
     "execution_count": 3,
     "metadata": {},
     "output_type": "execute_result"
    }
   ],
   "source": [
    "titanic_data.describe()"
   ]
  },
  {
   "cell_type": "code",
   "execution_count": 4,
   "metadata": {},
   "outputs": [
    {
     "name": "stdout",
     "output_type": "stream",
     "text": [
      "<class 'pandas.core.frame.DataFrame'>\n",
      "RangeIndex: 891 entries, 0 to 890\n",
      "Data columns (total 12 columns):\n",
      "PassengerId    891 non-null int64\n",
      "Survived       891 non-null int64\n",
      "Pclass         891 non-null int64\n",
      "Name           891 non-null object\n",
      "Sex            891 non-null object\n",
      "Age            714 non-null float64\n",
      "SibSp          891 non-null int64\n",
      "Parch          891 non-null int64\n",
      "Ticket         891 non-null object\n",
      "Fare           891 non-null float64\n",
      "Cabin          204 non-null object\n",
      "Embarked       889 non-null object\n",
      "dtypes: float64(2), int64(5), object(5)\n",
      "memory usage: 83.6+ KB\n"
     ]
    }
   ],
   "source": [
    "titanic_data.info()"
   ]
  },
  {
   "cell_type": "code",
   "execution_count": 5,
   "metadata": {
    "scrolled": true
   },
   "outputs": [
    {
     "data": {
      "text/html": [
       "<div>\n",
       "<style scoped>\n",
       "    .dataframe tbody tr th:only-of-type {\n",
       "        vertical-align: middle;\n",
       "    }\n",
       "\n",
       "    .dataframe tbody tr th {\n",
       "        vertical-align: top;\n",
       "    }\n",
       "\n",
       "    .dataframe thead th {\n",
       "        text-align: right;\n",
       "    }\n",
       "</style>\n",
       "<table border=\"1\" class=\"dataframe\">\n",
       "  <thead>\n",
       "    <tr style=\"text-align: right;\">\n",
       "      <th></th>\n",
       "      <th>PassengerId</th>\n",
       "      <th>Survived</th>\n",
       "      <th>Pclass</th>\n",
       "      <th>Name</th>\n",
       "      <th>Sex</th>\n",
       "      <th>Age</th>\n",
       "      <th>SibSp</th>\n",
       "      <th>Parch</th>\n",
       "      <th>Ticket</th>\n",
       "      <th>Fare</th>\n",
       "      <th>Cabin</th>\n",
       "      <th>Embarked</th>\n",
       "    </tr>\n",
       "  </thead>\n",
       "  <tbody>\n",
       "    <tr>\n",
       "      <th>0</th>\n",
       "      <td>1</td>\n",
       "      <td>0</td>\n",
       "      <td>3</td>\n",
       "      <td>Braund, Mr. Owen Harris</td>\n",
       "      <td>male</td>\n",
       "      <td>22.0</td>\n",
       "      <td>1</td>\n",
       "      <td>0</td>\n",
       "      <td>A/5 21171</td>\n",
       "      <td>7.2500</td>\n",
       "      <td>NaN</td>\n",
       "      <td>S</td>\n",
       "    </tr>\n",
       "    <tr>\n",
       "      <th>1</th>\n",
       "      <td>2</td>\n",
       "      <td>1</td>\n",
       "      <td>1</td>\n",
       "      <td>Cumings, Mrs. John Bradley (Florence Briggs Th...</td>\n",
       "      <td>female</td>\n",
       "      <td>38.0</td>\n",
       "      <td>1</td>\n",
       "      <td>0</td>\n",
       "      <td>PC 17599</td>\n",
       "      <td>71.2833</td>\n",
       "      <td>C85</td>\n",
       "      <td>C</td>\n",
       "    </tr>\n",
       "    <tr>\n",
       "      <th>2</th>\n",
       "      <td>3</td>\n",
       "      <td>1</td>\n",
       "      <td>3</td>\n",
       "      <td>Heikkinen, Miss. Laina</td>\n",
       "      <td>female</td>\n",
       "      <td>26.0</td>\n",
       "      <td>0</td>\n",
       "      <td>0</td>\n",
       "      <td>STON/O2. 3101282</td>\n",
       "      <td>7.9250</td>\n",
       "      <td>NaN</td>\n",
       "      <td>S</td>\n",
       "    </tr>\n",
       "    <tr>\n",
       "      <th>3</th>\n",
       "      <td>4</td>\n",
       "      <td>1</td>\n",
       "      <td>1</td>\n",
       "      <td>Futrelle, Mrs. Jacques Heath (Lily May Peel)</td>\n",
       "      <td>female</td>\n",
       "      <td>35.0</td>\n",
       "      <td>1</td>\n",
       "      <td>0</td>\n",
       "      <td>113803</td>\n",
       "      <td>53.1000</td>\n",
       "      <td>C123</td>\n",
       "      <td>S</td>\n",
       "    </tr>\n",
       "    <tr>\n",
       "      <th>4</th>\n",
       "      <td>5</td>\n",
       "      <td>0</td>\n",
       "      <td>3</td>\n",
       "      <td>Allen, Mr. William Henry</td>\n",
       "      <td>male</td>\n",
       "      <td>35.0</td>\n",
       "      <td>0</td>\n",
       "      <td>0</td>\n",
       "      <td>373450</td>\n",
       "      <td>8.0500</td>\n",
       "      <td>NaN</td>\n",
       "      <td>S</td>\n",
       "    </tr>\n",
       "  </tbody>\n",
       "</table>\n",
       "</div>"
      ],
      "text/plain": [
       "   PassengerId  Survived  Pclass  \\\n",
       "0            1         0       3   \n",
       "1            2         1       1   \n",
       "2            3         1       3   \n",
       "3            4         1       1   \n",
       "4            5         0       3   \n",
       "\n",
       "                                                Name     Sex   Age  SibSp  \\\n",
       "0                            Braund, Mr. Owen Harris    male  22.0      1   \n",
       "1  Cumings, Mrs. John Bradley (Florence Briggs Th...  female  38.0      1   \n",
       "2                             Heikkinen, Miss. Laina  female  26.0      0   \n",
       "3       Futrelle, Mrs. Jacques Heath (Lily May Peel)  female  35.0      1   \n",
       "4                           Allen, Mr. William Henry    male  35.0      0   \n",
       "\n",
       "   Parch            Ticket     Fare Cabin Embarked  \n",
       "0      0         A/5 21171   7.2500   NaN        S  \n",
       "1      0          PC 17599  71.2833   C85        C  \n",
       "2      0  STON/O2. 3101282   7.9250   NaN        S  \n",
       "3      0            113803  53.1000  C123        S  \n",
       "4      0            373450   8.0500   NaN        S  "
      ]
     },
     "execution_count": 5,
     "metadata": {},
     "output_type": "execute_result"
    }
   ],
   "source": [
    "titanic_data.head()"
   ]
  },
  {
   "cell_type": "code",
   "execution_count": 6,
   "metadata": {},
   "outputs": [],
   "source": [
    "survived_1=titanic_data[titanic_data['Survived' ] ==1] "
   ]
  },
  {
   "cell_type": "code",
   "execution_count": 7,
   "metadata": {},
   "outputs": [
    {
     "data": {
      "text/plain": [
       "<matplotlib.axes._subplots.AxesSubplot at 0x12e1416b2e8>"
      ]
     },
     "execution_count": 7,
     "metadata": {},
     "output_type": "execute_result"
    }
   ],
   "source": [
    "survived_1.Age.hist()"
   ]
  },
  {
   "cell_type": "code",
   "execution_count": 8,
   "metadata": {},
   "outputs": [],
   "source": [
    "survived_2=titanic_data[titanic_data['Survived' ] ==0] "
   ]
  },
  {
   "cell_type": "code",
   "execution_count": 9,
   "metadata": {},
   "outputs": [
    {
     "data": {
      "text/plain": [
       "<matplotlib.axes._subplots.AxesSubplot at 0x12e163ce208>"
      ]
     },
     "execution_count": 9,
     "metadata": {},
     "output_type": "execute_result"
    },
    {
     "data": {
      "image/png": "[encoded data removed]",
      "text/plain": [
       "<Figure size 432x288 with 1 Axes>"
      ]
     },
     "metadata": {
      "needs_background": "light"
     },
     "output_type": "display_data"
    }
   ],
   "source": [
    "survived_2.Age.hist() "
   ]
  },
  {
   "cell_type": "code",
   "execution_count": 10,
   "metadata": {},
   "outputs": [],
   "source": [
    "survived_male=titanic_data[titanic_data['Sex' ] =='male']"
   ]
  },
  {
   "cell_type": "code",
   "execution_count": 11,
   "metadata": {},
   "outputs": [],
   "source": [
    "survived_male = survived_male[survived_male['Survived'] == 1]"
   ]
  },
  {
   "cell_type": "code",
   "execution_count": 12,
   "metadata": {},
   "outputs": [
    {
     "data": {
      "text/plain": [
       "(109, 12)"
      ]
     },
     "execution_count": 12,
     "metadata": {},
     "output_type": "execute_result"
    }
   ],
   "source": [
    "survived_male.shape"
   ]
  },
  {
   "cell_type": "code",
   "execution_count": 13,
   "metadata": {},
   "outputs": [
    {
     "data": {
      "text/plain": [
       "577"
      ]
     },
     "execution_count": 13,
     "metadata": {},
     "output_type": "execute_result"
    }
   ],
   "source": [
    "(titanic_data['Sex' ] =='male').sum()"
   ]
  },
  {
   "cell_type": "code",
   "execution_count": 14,
   "metadata": {},
   "outputs": [
    {
     "data": {
      "text/plain": [
       "314"
      ]
     },
     "execution_count": 14,
     "metadata": {},
     "output_type": "execute_result"
    }
   ],
   "source": [
    "(titanic_data['Sex' ] =='female').sum()"
   ]
  },
  {
   "cell_type": "code",
   "execution_count": 15,
   "metadata": {},
   "outputs": [
    {
     "data": {
      "text/plain": [
       "<matplotlib.axes._subplots.AxesSubplot at 0x12e16430ac8>"
      ]
     },
     "execution_count": 15,
     "metadata": {},
     "output_type": "execute_result"
    },
    {
     "data": {
      "image/png": "[encoded data removed]",
      "text/plain": [
       "<Figure size 432x288 with 1 Axes>"
      ]
     },
     "metadata": {
      "needs_background": "light"
     },
     "output_type": "display_data"
    }
   ],
   "source": [
    "survived_male.Age.hist()"
   ]
  },
  {
   "cell_type": "code",
   "execution_count": 16,
   "metadata": {},
   "outputs": [
    {
     "data": {
      "text/plain": [
       "<matplotlib.axes._subplots.AxesSubplot at 0x12e164cfa58>"
      ]
     },
     "execution_count": 16,
     "metadata": {},
     "output_type": "execute_result"
    },
    {
     "data": {
      "image/png": "[encoded data removed]",
      "text/plain": [
       "<Figure size 432x288 with 1 Axes>"
      ]
     },
     "metadata": {
      "needs_background": "light"
     },
     "output_type": "display_data"
    }
   ],
   "source": [
    "titanic_data['Age'].hist()"
   ]
  },
  {
   "cell_type": "code",
   "execution_count": 17,
   "metadata": {
    "scrolled": true
   },
   "outputs": [
    {
     "data": {
      "text/plain": [
       "<matplotlib.axes._subplots.AxesSubplot at 0x12e16556908>"
      ]
     },
     "execution_count": 17,
     "metadata": {},
     "output_type": "execute_result"
    },
    {
     "data": {
      "image/png": "[encoded data removed]",
      "text/plain": [
       "<Figure size 432x288 with 1 Axes>"
      ]
     },
     "metadata": {
      "needs_background": "light"
     },
     "output_type": "display_data"
    }
   ],
   "source": [
    "titanic_data['Pclass'].plot(kind = 'bar')"
   ]
  },
  {
   "cell_type": "code",
   "execution_count": 18,
   "metadata": {},
   "outputs": [
    {
     "data": {
      "text/plain": [
       "array([3, 1, 2], dtype=int64)"
      ]
     },
     "execution_count": 18,
     "metadata": {},
     "output_type": "execute_result"
    }
   ],
   "source": [
    "titanic_data['Pclass'].unique()"
   ]
  },
  {
   "cell_type": "code",
   "execution_count": 19,
   "metadata": {},
   "outputs": [
    {
     "data": {
      "text/plain": [
       "491"
      ]
     },
     "execution_count": 19,
     "metadata": {},
     "output_type": "execute_result"
    }
   ],
   "source": [
    "(titanic_data['Pclass'] == 3).sum()"
   ]
  },
  {
   "cell_type": "code",
   "execution_count": 20,
   "metadata": {},
   "outputs": [
    {
     "data": {
      "text/plain": [
       "184"
      ]
     },
     "execution_count": 20,
     "metadata": {},
     "output_type": "execute_result"
    }
   ],
   "source": [
    "(titanic_data['Pclass'] == 2).sum()"
   ]
  },
  {
   "cell_type": "code",
   "execution_count": 21,
   "metadata": {},
   "outputs": [
    {
     "data": {
      "text/plain": [
       "216"
      ]
     },
     "execution_count": 21,
     "metadata": {},
     "output_type": "execute_result"
    }
   ],
   "source": [
    "(titanic_data['Pclass'] == 1).sum()"
   ]
  },
  {
   "cell_type": "code",
   "execution_count": 22,
   "metadata": {},
   "outputs": [],
   "source": [
    "class3 = titanic_data[titanic_data['Pclass'] == 3]"
   ]
  },
  {
   "cell_type": "code",
   "execution_count": 23,
   "metadata": {},
   "outputs": [
    {
     "data": {
      "text/plain": [
       "<matplotlib.axes._subplots.AxesSubplot at 0x12e18453be0>"
      ]
     },
     "execution_count": 23,
     "metadata": {},
     "output_type": "execute_result"
    },
    {
     "data": {
      "image/png": "[encoded data removed]",
      "text/plain": [
       "<Figure size 432x288 with 1 Axes>"
      ]
     },
     "metadata": {
      "needs_background": "light"
     },
     "output_type": "display_data"
    }
   ],
   "source": [
    "class3.Pclass.hist()"
   ]
  },
  {
   "cell_type": "code",
   "execution_count": 24,
   "metadata": {},
   "outputs": [],
   "source": [
    "class2 = titanic_data[titanic_data['Pclass'] == 2]"
   ]
  },
  {
   "cell_type": "code",
   "execution_count": 25,
   "metadata": {},
   "outputs": [
    {
     "data": {
      "text/plain": [
       "<matplotlib.axes._subplots.AxesSubplot at 0x12e165acc18>"
      ]
     },
     "execution_count": 25,
     "metadata": {},
     "output_type": "execute_result"
    },
    {
     "data": {
      "image/png": "[encoded data removed]",
      "text/plain": [
       "<Figure size 432x288 with 1 Axes>"
      ]
     },
     "metadata": {
      "needs_background": "light"
     },
     "output_type": "display_data"
    }
   ],
   "source": [
    "class2.Pclass.hist()"
   ]
  },
  {
   "cell_type": "code",
   "execution_count": 26,
   "metadata": {},
   "outputs": [],
   "source": [
    "class1 = titanic_data[titanic_data['Pclass'] == 1]"
   ]
  },
  {
   "cell_type": "code",
   "execution_count": 27,
   "metadata": {},
   "outputs": [
    {
     "data": {
      "text/plain": [
       "<matplotlib.axes._subplots.AxesSubplot at 0x12e188c9f28>"
      ]
     },
     "execution_count": 27,
     "metadata": {},
     "output_type": "execute_result"
    },
    {
     "data": {
      "image/png": "[encoded data removed]",
      "text/plain": [
       "<Figure size 432x288 with 1 Axes>"
      ]
     },
     "metadata": {
      "needs_background": "light"
     },
     "output_type": "display_data"
    }
   ],
   "source": [
    "class1.Pclass.hist()"
   ]
  },
  {
   "cell_type": "code",
   "execution_count": 28,
   "metadata": {},
   "outputs": [
    {
     "data": {
      "text/plain": [
       "<matplotlib.axes._subplots.AxesSubplot at 0x12e187894a8>"
      ]
     },
     "execution_count": 28,
     "metadata": {},
     "output_type": "execute_result"
    },
    {
     "data": {
      "image/png": "[encoded data removed]",
      "text/plain": [
       "<Figure size 432x288 with 1 Axes>"
      ]
     },
     "metadata": {
      "needs_background": "light"
     },
     "output_type": "display_data"
    }
   ],
   "source": [
    "class3.Age.hist()"
   ]
  },
  {
   "cell_type": "code",
   "execution_count": 29,
   "metadata": {},
   "outputs": [
    {
     "data": {
      "text/plain": [
       "<matplotlib.axes._subplots.AxesSubplot at 0x12e18868438>"
      ]
     },
     "execution_count": 29,
     "metadata": {},
     "output_type": "execute_result"
    },
    {
     "data": {
      "image/png": "[encoded data removed]",
      "text/plain": [
       "<Figure size 432x288 with 1 Axes>"
      ]
     },
     "metadata": {
      "needs_background": "light"
     },
     "output_type": "display_data"
    }
   ],
   "source": [
    "class2.Age.hist()"
   ]
  },
  {
   "cell_type": "code",
   "execution_count": 30,
   "metadata": {},
   "outputs": [
    {
     "data": {
      "text/plain": [
       "<matplotlib.axes._subplots.AxesSubplot at 0x12e13fbcf60>"
      ]
     },
     "execution_count": 30,
     "metadata": {},
     "output_type": "execute_result"
    },
    {
     "data": {
      "image/png": "[encoded data removed]",
      "text/plain": [
       "<Figure size 432x288 with 1 Axes>"
      ]
     },
     "metadata": {
      "needs_background": "light"
     },
     "output_type": "display_data"
    }
   ],
   "source": [
    "class1.Age.hist()"
   ]
  },
  {
   "cell_type": "code",
   "execution_count": 31,
   "metadata": {},
   "outputs": [
    {
     "data": {
      "text/plain": [
       "1      Cumings, Mrs. John Bradley (Florence Briggs Th...\n",
       "3           Futrelle, Mrs. Jacques Heath (Lily May Peel)\n",
       "6                                McCarthy, Mr. Timothy J\n",
       "11                              Bonnell, Miss. Elizabeth\n",
       "23                          Sloper, Mr. William Thompson\n",
       "27                        Fortune, Mr. Charles Alexander\n",
       "30                              Uruchurtu, Don. Manuel E\n",
       "31        Spencer, Mrs. William Augustus (Marie Eugenie)\n",
       "34                               Meyer, Mr. Edgar Joseph\n",
       "35                        Holverson, Mr. Alexander Oskar\n",
       "52              Harper, Mrs. Henry Sleeper (Myna Haxtun)\n",
       "54                        Ostby, Mr. Engelhart Cornelius\n",
       "55                                     Woolner, Mr. Hugh\n",
       "61                                   Icard, Miss. Amelie\n",
       "62                           Harris, Mr. Henry Birkhardt\n",
       "64                                 Stewart, Mr. Albert A\n",
       "83                               Carrau, Mr. Francisco M\n",
       "88                            Fortune, Miss. Mabel Helen\n",
       "92                           Chaffee, Mr. Herbert Fuller\n",
       "96                             Goldschmidt, Mr. George B\n",
       "97                       Greenfield, Mr. William Bertram\n",
       "102                            White, Mr. Richard Frasar\n",
       "110                       Porter, Mr. Walter Chamberlain\n",
       "118                             Baxter, Mr. Quigg Edmond\n",
       "124                          White, Mr. Percival Wayland\n",
       "136                         Newsom, Miss. Helen Monypeny\n",
       "137                          Futrelle, Mr. Jacques Heath\n",
       "139                                   Giglio, Mr. Victor\n",
       "151                    Pears, Mrs. Thomas (Edith Wearne)\n",
       "155                          Williams, Mr. Charles Duane\n",
       "                             ...                        \n",
       "763            Carter, Mrs. William Ernest (Lucile Polk)\n",
       "765                 Hogeboom, Mrs. John C (Anna Andrews)\n",
       "766                            Brewe, Dr. Arthur Jackson\n",
       "779    Robert, Mrs. Edward Scott (Elisabeth Walton Mc...\n",
       "781            Dick, Mrs. Albert Adrian (Vera Gillespie)\n",
       "782                               Long, Mr. Milton Clyde\n",
       "789                             Guggenheim, Mr. Benjamin\n",
       "793                             Hoyt, Mr. William Fisher\n",
       "796                          Leader, Dr. Alice (Farnham)\n",
       "802                  Carter, Master. William Thornton II\n",
       "806                               Andrews, Mr. Thomas Jr\n",
       "809       Chambers, Mrs. Norman Campbell (Bertha Griggs)\n",
       "815                                     Fry, Mr. Richard\n",
       "820    Hays, Mrs. Charles Melville (Clara Jennings Gr...\n",
       "822                      Reuchlin, Jonkheer. John George\n",
       "829            Stone, Mrs. George Nelson (Martha Evelyn)\n",
       "835                          Compton, Miss. Sara Rebecca\n",
       "839                                 Marechal, Mr. Pierre\n",
       "842                              Serepeca, Miss. Augusta\n",
       "849         Goldenberg, Mrs. Samuel L (Edwiga Grabowska)\n",
       "853                            Lines, Miss. Mary Conover\n",
       "856           Wick, Mrs. George Dennick (Mary Hitchcock)\n",
       "857                               Daly, Mr. Peter Denis \n",
       "862    Swift, Mrs. Frederick Joel (Margaret Welles Ba...\n",
       "867                 Roebling, Mr. Washington Augustus II\n",
       "871     Beckwith, Mrs. Richard Leonard (Sallie Monypeny)\n",
       "872                             Carlsson, Mr. Frans Olof\n",
       "879        Potter, Mrs. Thomas Jr (Lily Alexenia Wilson)\n",
       "887                         Graham, Miss. Margaret Edith\n",
       "889                                Behr, Mr. Karl Howell\n",
       "Name: Name, Length: 216, dtype: object"
      ]
     },
     "execution_count": 31,
     "metadata": {},
     "output_type": "execute_result"
    }
   ],
   "source": [
    "class1.Name"
   ]
  },
  {
   "cell_type": "code",
   "execution_count": 32,
   "metadata": {},
   "outputs": [
    {
     "data": {
      "text/plain": [
       "9                    Nasser, Mrs. Nicholas (Adele Achem)\n",
       "15                      Hewlett, Mrs. (Mary D Kingcome) \n",
       "17                          Williams, Mr. Charles Eugene\n",
       "20                                  Fynney, Mr. Joseph J\n",
       "21                                 Beesley, Mr. Lawrence\n",
       "33                                 Wheadon, Mr. Edward H\n",
       "41     Turpin, Mrs. William John Robert (Dorothy Ann ...\n",
       "43              Laroche, Miss. Simonne Marie Anne Andree\n",
       "53     Faunthorpe, Mrs. Lizzie (Elizabeth Anne Wilkin...\n",
       "56                                     Rugg, Miss. Emily\n",
       "58                          West, Miss. Constance Mirium\n",
       "66                          Nye, Mrs. (Elizabeth Ramell)\n",
       "70                            Jenkin, Mr. Stephen Curnow\n",
       "72                                  Hood, Mr. Ambrose Jr\n",
       "78                         Caldwell, Master. Alden Gates\n",
       "84                                   Ilett, Miss. Bertha\n",
       "98                  Doling, Mrs. John T (Ada Julia Bone)\n",
       "99                                     Kantor, Mr. Sinai\n",
       "117                      Turpin, Mr. William John Robert\n",
       "120                          Hickman, Mr. Stanley George\n",
       "122                                 Nasser, Mr. Nicholas\n",
       "123                                  Webber, Miss. Susan\n",
       "133        Weisz, Mrs. Leopold (Mathilde Francoise Pede)\n",
       "134                       Sobey, Mr. Samuel James Hayden\n",
       "135                                   Richard, Mr. Emile\n",
       "144                           Andrew, Mr. Edgardo Samuel\n",
       "145                         Nicholls, Mr. Joseph Charles\n",
       "148             Navratil, Mr. Michel (\"Louis M Hoffman\")\n",
       "149                    Byles, Rev. Thomas Roussel Davids\n",
       "150                           Bateman, Rev. Robert James\n",
       "                             ...                        \n",
       "732                                 Knight, Mr. Robert J\n",
       "733                           Berriman, Mr. William John\n",
       "734                         Troupiansky, Mr. Moses Aaron\n",
       "747                                Sinkkonen, Miss. Anna\n",
       "750                                    Wells, Miss. Joan\n",
       "754                     Herman, Mrs. Samuel (Jane Laver)\n",
       "755                            Hamalainen, Master. Viljo\n",
       "757                             Bailey, Mr. Percy Andrew\n",
       "772                                    Mack, Mrs. (Mary)\n",
       "774                Hocking, Mrs. Elizabeth (Eliza Needs)\n",
       "791                                  Gaskell, Mr. Alfred\n",
       "795                                   Otter, Mr. Richard\n",
       "800                                 Ponesell, Mr. Martin\n",
       "801          Collyer, Mrs. Harvey (Charlotte Annie Tate)\n",
       "808                                    Meyer, Mr. August\n",
       "812                            Slemen, Mr. Richard James\n",
       "817                                   Mallet, Mr. Albert\n",
       "827                                Mallet, Master. Andre\n",
       "831                      Richards, Master. George Sibley\n",
       "841                             Mudd, Mr. Thomas Charles\n",
       "848                                    Harper, Rev. John\n",
       "854        Carter, Mrs. Ernest Courtenay (Lilian Hughes)\n",
       "861                          Giles, Mr. Frederick Edward\n",
       "864                               Gill, Mr. John William\n",
       "865                             Bystrom, Mrs. (Karolina)\n",
       "866                         Duran y More, Miss. Asuncion\n",
       "874                Abelson, Mrs. Samuel (Hannah Wizosky)\n",
       "880         Shelley, Mrs. William (Imanita Parrish Hall)\n",
       "883                        Banfield, Mr. Frederick James\n",
       "886                                Montvila, Rev. Juozas\n",
       "Name: Name, Length: 184, dtype: object"
      ]
     },
     "execution_count": 32,
     "metadata": {},
     "output_type": "execute_result"
    }
   ],
   "source": [
    "class2.Name"
   ]
  },
  {
   "cell_type": "code",
   "execution_count": 33,
   "metadata": {},
   "outputs": [
    {
     "data": {
      "text/plain": [
       "0                                Braund, Mr. Owen Harris\n",
       "2                                 Heikkinen, Miss. Laina\n",
       "4                               Allen, Mr. William Henry\n",
       "5                                       Moran, Mr. James\n",
       "7                         Palsson, Master. Gosta Leonard\n",
       "8      Johnson, Mrs. Oscar W (Elisabeth Vilhelmina Berg)\n",
       "10                       Sandstrom, Miss. Marguerite Rut\n",
       "12                        Saundercock, Mr. William Henry\n",
       "13                           Andersson, Mr. Anders Johan\n",
       "14                  Vestrom, Miss. Hulda Amanda Adolfina\n",
       "16                                  Rice, Master. Eugene\n",
       "18     Vander Planke, Mrs. Julius (Emelia Maria Vande...\n",
       "19                               Masselmani, Mrs. Fatima\n",
       "22                           McGowan, Miss. Anna \"Annie\"\n",
       "24                         Palsson, Miss. Torborg Danira\n",
       "25     Asplund, Mrs. Carl Oscar (Selma Augusta Emilia...\n",
       "26                               Emir, Mr. Farred Chehab\n",
       "28                         O'Dwyer, Miss. Ellen \"Nellie\"\n",
       "29                                   Todoroff, Mr. Lalio\n",
       "32                              Glynn, Miss. Mary Agatha\n",
       "36                                      Mamee, Mr. Hanna\n",
       "37                              Cann, Mr. Ernest Charles\n",
       "38                    Vander Planke, Miss. Augusta Maria\n",
       "39                           Nicola-Yarred, Miss. Jamila\n",
       "40        Ahlin, Mrs. Johan (Johanna Persdotter Larsson)\n",
       "42                                   Kraeff, Mr. Theodor\n",
       "44                         Devaney, Miss. Margaret Delia\n",
       "45                              Rogers, Mr. William John\n",
       "46                                     Lennon, Mr. Denis\n",
       "47                             O'Driscoll, Miss. Bridget\n",
       "                             ...                        \n",
       "837                                  Sirota, Mr. Maurice\n",
       "838                                      Chip, Mr. Chang\n",
       "840                          Alhomaki, Mr. Ilmari Rudolf\n",
       "843                           Lemberopolous, Mr. Peter L\n",
       "844                                  Culumovic, Mr. Jeso\n",
       "845                                  Abbing, Mr. Anthony\n",
       "846                             Sage, Mr. Douglas Bullen\n",
       "847                                   Markoff, Mr. Marin\n",
       "850              Andersson, Master. Sigvard Harald Elias\n",
       "851                                  Svensson, Mr. Johan\n",
       "852                              Boulos, Miss. Nourelain\n",
       "855                           Aks, Mrs. Sam (Leah Rosen)\n",
       "858                Baclini, Mrs. Solomon (Latifa Qurban)\n",
       "859                                     Razi, Mr. Raihed\n",
       "860                              Hansen, Mr. Claus Peter\n",
       "863                    Sage, Miss. Dorothy Edith \"Dolly\"\n",
       "868                          van Melkebeke, Mr. Philemon\n",
       "869                      Johnson, Master. Harold Theodor\n",
       "870                                    Balkic, Mr. Cerin\n",
       "873                          Vander Cruyssen, Mr. Victor\n",
       "875                     Najib, Miss. Adele Kiamie \"Jane\"\n",
       "876                        Gustafsson, Mr. Alfred Ossian\n",
       "877                                 Petroff, Mr. Nedelio\n",
       "878                                   Laleff, Mr. Kristo\n",
       "881                                   Markun, Mr. Johann\n",
       "882                         Dahlberg, Miss. Gerda Ulrika\n",
       "884                               Sutehall, Mr. Henry Jr\n",
       "885                 Rice, Mrs. William (Margaret Norton)\n",
       "888             Johnston, Miss. Catherine Helen \"Carrie\"\n",
       "890                                  Dooley, Mr. Patrick\n",
       "Name: Name, Length: 491, dtype: object"
      ]
     },
     "execution_count": 33,
     "metadata": {},
     "output_type": "execute_result"
    }
   ],
   "source": [
    "class3.Name"
   ]
  },
  {
   "cell_type": "code",
   "execution_count": 34,
   "metadata": {},
   "outputs": [
    {
     "data": {
      "text/plain": [
       "<matplotlib.axes._subplots.AxesSubplot at 0x12e18989320>"
      ]
     },
     "execution_count": 34,
     "metadata": {},
     "output_type": "execute_result"
    },
    {
     "data": {
      "image/png": "[encoded data removed]",
      "text/plain": [
       "<Figure size 432x288 with 1 Axes>"
      ]
     },
     "metadata": {
      "needs_background": "light"
     },
     "output_type": "display_data"
    }
   ],
   "source": [
    "class1.Cabin.hist()"
   ]
  },
  {
   "cell_type": "code",
   "execution_count": 35,
   "metadata": {},
   "outputs": [
    {
     "data": {
      "text/plain": [
       "1              C85\n",
       "3             C123\n",
       "6              E46\n",
       "11            C103\n",
       "23              A6\n",
       "27     C23 C25 C27\n",
       "30             NaN\n",
       "31             B78\n",
       "34             NaN\n",
       "35             NaN\n",
       "52             D33\n",
       "54             B30\n",
       "55             C52\n",
       "61             B28\n",
       "62             C83\n",
       "64             NaN\n",
       "83             NaN\n",
       "88     C23 C25 C27\n",
       "92             E31\n",
       "96              A5\n",
       "97         D10 D12\n",
       "102            D26\n",
       "110           C110\n",
       "118        B58 B60\n",
       "124            D26\n",
       "136            D47\n",
       "137           C123\n",
       "139            B86\n",
       "151             C2\n",
       "155            NaN\n",
       "          ...     \n",
       "763        B96 B98\n",
       "765            D11\n",
       "766            NaN\n",
       "779             B3\n",
       "781            B20\n",
       "782             D6\n",
       "789        B82 B84\n",
       "793            NaN\n",
       "796            D17\n",
       "802        B96 B98\n",
       "806            A36\n",
       "809             E8\n",
       "815           B102\n",
       "820            B69\n",
       "822            NaN\n",
       "829            B28\n",
       "835            E49\n",
       "839            C47\n",
       "842            NaN\n",
       "849            C92\n",
       "853            D28\n",
       "856            NaN\n",
       "857            E17\n",
       "862            D17\n",
       "867            A24\n",
       "871            D35\n",
       "872    B51 B53 B55\n",
       "879            C50\n",
       "887            B42\n",
       "889           C148\n",
       "Name: Cabin, Length: 216, dtype: object"
      ]
     },
     "execution_count": 35,
     "metadata": {},
     "output_type": "execute_result"
    }
   ],
   "source": [
    "class1.Cabin"
   ]
  },
  {
   "cell_type": "code",
   "execution_count": 36,
   "metadata": {},
   "outputs": [
    {
     "data": {
      "text/plain": [
       "9       NaN\n",
       "15      NaN\n",
       "17      NaN\n",
       "20      NaN\n",
       "21      D56\n",
       "33      NaN\n",
       "41      NaN\n",
       "43      NaN\n",
       "53      NaN\n",
       "56      NaN\n",
       "58      NaN\n",
       "66      F33\n",
       "70      NaN\n",
       "72      NaN\n",
       "78      NaN\n",
       "84      NaN\n",
       "98      NaN\n",
       "99      NaN\n",
       "117     NaN\n",
       "120     NaN\n",
       "122     NaN\n",
       "123    E101\n",
       "133     NaN\n",
       "134     NaN\n",
       "135     NaN\n",
       "144     NaN\n",
       "145     NaN\n",
       "148      F2\n",
       "149     NaN\n",
       "150     NaN\n",
       "       ... \n",
       "732     NaN\n",
       "733     NaN\n",
       "734     NaN\n",
       "747     NaN\n",
       "750     NaN\n",
       "754     NaN\n",
       "755     NaN\n",
       "757     NaN\n",
       "772     E77\n",
       "774     NaN\n",
       "791     NaN\n",
       "795     NaN\n",
       "800     NaN\n",
       "801     NaN\n",
       "808     NaN\n",
       "812     NaN\n",
       "817     NaN\n",
       "827     NaN\n",
       "831     NaN\n",
       "841     NaN\n",
       "848     NaN\n",
       "854     NaN\n",
       "861     NaN\n",
       "864     NaN\n",
       "865     NaN\n",
       "866     NaN\n",
       "874     NaN\n",
       "880     NaN\n",
       "883     NaN\n",
       "886     NaN\n",
       "Name: Cabin, Length: 184, dtype: object"
      ]
     },
     "execution_count": 36,
     "metadata": {},
     "output_type": "execute_result"
    }
   ],
   "source": [
    "class2.Cabin"
   ]
  },
  {
   "cell_type": "code",
   "execution_count": 37,
   "metadata": {},
   "outputs": [
    {
     "data": {
      "text/plain": [
       "0      NaN\n",
       "2      NaN\n",
       "4      NaN\n",
       "5      NaN\n",
       "7      NaN\n",
       "8      NaN\n",
       "10      G6\n",
       "12     NaN\n",
       "13     NaN\n",
       "14     NaN\n",
       "16     NaN\n",
       "18     NaN\n",
       "19     NaN\n",
       "22     NaN\n",
       "24     NaN\n",
       "25     NaN\n",
       "26     NaN\n",
       "28     NaN\n",
       "29     NaN\n",
       "32     NaN\n",
       "36     NaN\n",
       "37     NaN\n",
       "38     NaN\n",
       "39     NaN\n",
       "40     NaN\n",
       "42     NaN\n",
       "44     NaN\n",
       "45     NaN\n",
       "46     NaN\n",
       "47     NaN\n",
       "      ... \n",
       "837    NaN\n",
       "838    NaN\n",
       "840    NaN\n",
       "843    NaN\n",
       "844    NaN\n",
       "845    NaN\n",
       "846    NaN\n",
       "847    NaN\n",
       "850    NaN\n",
       "851    NaN\n",
       "852    NaN\n",
       "855    NaN\n",
       "858    NaN\n",
       "859    NaN\n",
       "860    NaN\n",
       "863    NaN\n",
       "868    NaN\n",
       "869    NaN\n",
       "870    NaN\n",
       "873    NaN\n",
       "875    NaN\n",
       "876    NaN\n",
       "877    NaN\n",
       "878    NaN\n",
       "881    NaN\n",
       "882    NaN\n",
       "884    NaN\n",
       "885    NaN\n",
       "888    NaN\n",
       "890    NaN\n",
       "Name: Cabin, Length: 491, dtype: object"
      ]
     },
     "execution_count": 37,
     "metadata": {},
     "output_type": "execute_result"
    }
   ],
   "source": [
    "class3.Cabin"
   ]
  },
  {
   "cell_type": "code",
   "execution_count": 38,
   "metadata": {},
   "outputs": [],
   "source": [
    "males = titanic_data[titanic_data['Sex'] == 'male']"
   ]
  },
  {
   "cell_type": "code",
   "execution_count": 39,
   "metadata": {},
   "outputs": [
    {
     "data": {
      "text/plain": [
       "0                      Braund, Mr. Owen Harris\n",
       "4                     Allen, Mr. William Henry\n",
       "5                             Moran, Mr. James\n",
       "6                      McCarthy, Mr. Timothy J\n",
       "7               Palsson, Master. Gosta Leonard\n",
       "12              Saundercock, Mr. William Henry\n",
       "13                 Andersson, Mr. Anders Johan\n",
       "16                        Rice, Master. Eugene\n",
       "17                Williams, Mr. Charles Eugene\n",
       "20                        Fynney, Mr. Joseph J\n",
       "21                       Beesley, Mr. Lawrence\n",
       "23                Sloper, Mr. William Thompson\n",
       "26                     Emir, Mr. Farred Chehab\n",
       "27              Fortune, Mr. Charles Alexander\n",
       "29                         Todoroff, Mr. Lalio\n",
       "30                    Uruchurtu, Don. Manuel E\n",
       "33                       Wheadon, Mr. Edward H\n",
       "34                     Meyer, Mr. Edgar Joseph\n",
       "35              Holverson, Mr. Alexander Oskar\n",
       "36                            Mamee, Mr. Hanna\n",
       "37                    Cann, Mr. Ernest Charles\n",
       "42                         Kraeff, Mr. Theodor\n",
       "45                    Rogers, Mr. William John\n",
       "46                           Lennon, Mr. Denis\n",
       "48                         Samaan, Mr. Youssef\n",
       "50                  Panula, Master. Juha Niilo\n",
       "51                Nosworthy, Mr. Richard Cater\n",
       "54              Ostby, Mr. Engelhart Cornelius\n",
       "55                           Woolner, Mr. Hugh\n",
       "57                         Novel, Mr. Mansouer\n",
       "                        ...                   \n",
       "840                Alhomaki, Mr. Ilmari Rudolf\n",
       "841                   Mudd, Mr. Thomas Charles\n",
       "843                 Lemberopolous, Mr. Peter L\n",
       "844                        Culumovic, Mr. Jeso\n",
       "845                        Abbing, Mr. Anthony\n",
       "846                   Sage, Mr. Douglas Bullen\n",
       "847                         Markoff, Mr. Marin\n",
       "848                          Harper, Rev. John\n",
       "850    Andersson, Master. Sigvard Harald Elias\n",
       "851                        Svensson, Mr. Johan\n",
       "857                     Daly, Mr. Peter Denis \n",
       "859                           Razi, Mr. Raihed\n",
       "860                    Hansen, Mr. Claus Peter\n",
       "861                Giles, Mr. Frederick Edward\n",
       "864                     Gill, Mr. John William\n",
       "867       Roebling, Mr. Washington Augustus II\n",
       "868                van Melkebeke, Mr. Philemon\n",
       "869            Johnson, Master. Harold Theodor\n",
       "870                          Balkic, Mr. Cerin\n",
       "872                   Carlsson, Mr. Frans Olof\n",
       "873                Vander Cruyssen, Mr. Victor\n",
       "876              Gustafsson, Mr. Alfred Ossian\n",
       "877                       Petroff, Mr. Nedelio\n",
       "878                         Laleff, Mr. Kristo\n",
       "881                         Markun, Mr. Johann\n",
       "883              Banfield, Mr. Frederick James\n",
       "884                     Sutehall, Mr. Henry Jr\n",
       "886                      Montvila, Rev. Juozas\n",
       "889                      Behr, Mr. Karl Howell\n",
       "890                        Dooley, Mr. Patrick\n",
       "Name: Name, Length: 577, dtype: object"
      ]
     },
     "execution_count": 39,
     "metadata": {},
     "output_type": "execute_result"
    }
   ],
   "source": [
    "males.Name"
   ]
  },
  {
   "cell_type": "code",
   "execution_count": 40,
   "metadata": {},
   "outputs": [
    {
     "data": {
      "text/plain": [
       "PassengerId    577\n",
       "Survived       577\n",
       "Pclass         577\n",
       "Name           577\n",
       "Sex            577\n",
       "Age            453\n",
       "SibSp          577\n",
       "Parch          577\n",
       "Ticket         577\n",
       "Fare           577\n",
       "Cabin          107\n",
       "Embarked       577\n",
       "dtype: int64"
      ]
     },
     "execution_count": 40,
     "metadata": {},
     "output_type": "execute_result"
    }
   ],
   "source": [
    "males.count()"
   ]
  },
  {
   "cell_type": "code",
   "execution_count": 41,
   "metadata": {},
   "outputs": [],
   "source": [
    "male_names = males[males['Age'] == 22]"
   ]
  },
  {
   "cell_type": "code",
   "execution_count": 42,
   "metadata": {},
   "outputs": [
    {
     "data": {
      "text/plain": [
       "0                Braund, Mr. Owen Harris\n",
       "60                 Sirayanian, Mr. Orsen\n",
       "80                  Waelens, Mr. Achille\n",
       "112               Barton, Mr. David John\n",
       "212               Perkin, Mr. John Henry\n",
       "225         Berglund, Mr. Karl Ivar Sven\n",
       "243        Maenpaa, Mr. Matti Alexanteri\n",
       "287                 Naidenoff, Mr. Penko\n",
       "320                   Dennis, Mr. Samuel\n",
       "373                  Ringhini, Mr. Sante\n",
       "395                  Johansson, Mr. Erik\n",
       "478            Karlsson, Mr. Nils August\n",
       "521                      Vovk, Mr. Janko\n",
       "553    Leeni, Mr. Fahim (\"Philip Zenni\")\n",
       "588                Gilinski, Mr. Eliezer\n",
       "Name: Name, dtype: object"
      ]
     },
     "execution_count": 42,
     "metadata": {},
     "output_type": "execute_result"
    }
   ],
   "source": [
    "male_names.Name"
   ]
  },
  {
   "cell_type": "code",
   "execution_count": 43,
   "metadata": {},
   "outputs": [],
   "source": [
    "survived_males = titanic_data[titanic_data['Sex'] == 'male']"
   ]
  },
  {
   "cell_type": "code",
   "execution_count": 44,
   "metadata": {},
   "outputs": [],
   "source": [
    "survived_males = survived_males[survived_males['Survived'] == 0]"
   ]
  },
  {
   "cell_type": "code",
   "execution_count": 45,
   "metadata": {},
   "outputs": [],
   "source": [
    "names = survived_males[survived_males['Age'] == 22]"
   ]
  },
  {
   "cell_type": "code",
   "execution_count": 46,
   "metadata": {},
   "outputs": [
    {
     "data": {
      "text/plain": [
       "0            Braund, Mr. Owen Harris\n",
       "60             Sirayanian, Mr. Orsen\n",
       "80              Waelens, Mr. Achille\n",
       "112           Barton, Mr. David John\n",
       "212           Perkin, Mr. John Henry\n",
       "225     Berglund, Mr. Karl Ivar Sven\n",
       "243    Maenpaa, Mr. Matti Alexanteri\n",
       "287             Naidenoff, Mr. Penko\n",
       "320               Dennis, Mr. Samuel\n",
       "373              Ringhini, Mr. Sante\n",
       "395              Johansson, Mr. Erik\n",
       "478        Karlsson, Mr. Nils August\n",
       "521                  Vovk, Mr. Janko\n",
       "588            Gilinski, Mr. Eliezer\n",
       "Name: Name, dtype: object"
      ]
     },
     "execution_count": 46,
     "metadata": {},
     "output_type": "execute_result"
    }
   ],
   "source": [
    "names.Name"
   ]
  }
 ],
 "metadata": {
  "kernelspec": {
   "display_name": "Python 3",
   "language": "python",
   "name": "python3"
  },
  "language_info": {
   "codemirror_mode": {
    "name": "ipython",
    "version": 3
   },
   "file_extension": ".py",
   "mimetype": "text/x-python",
   "name": "python",
   "nbconvert_exporter": "python",
   "pygments_lexer": "ipython3",
   "version": "3.7.0"
  }
 },
 "nbformat": 4,
 "nbformat_minor": 2
}
